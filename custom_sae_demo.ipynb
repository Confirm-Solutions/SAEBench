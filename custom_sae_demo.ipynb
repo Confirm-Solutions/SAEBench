{
 "cells": [
  {
   "cell_type": "code",
   "execution_count": null,
   "metadata": {},
   "outputs": [],
   "source": [
    "%load_ext autoreload\n",
    "%autoreload 2"
   ]
  },
  {
   "cell_type": "code",
   "execution_count": null,
   "metadata": {},
   "outputs": [],
   "source": [
    "import os\n",
    "from typing import Any, Optional\n",
    "\n",
    "import evals.core.main as core\n",
    "import evals.scr_and_tpp.main as scr_and_tpp\n",
    "import evals.sparse_probing.main as sparse_probing\n",
    "import sae_bench_utils.general_utils as general_utils\n",
    "import custom_saes.custom_sae_config as custom_sae_config\n",
    "import custom_saes.vanilla_sae as vanilla_sae\n",
    "from sae_bench_utils.sae_selection_utils import get_saes_from_regex\n",
    "import custom_saes.run_all_evals_custom_saes as run_all_evals_custom_saes\n",
    "\n",
    "RANDOM_SEED = 42\n",
    "\n",
    "output_folders = {\n",
    "    \"absorption\": \"eval_results/absorption\",\n",
    "    \"autointerp\": \"eval_results/autointerp\",\n",
    "    \"core\": \"eval_results/core\",\n",
    "    \"scr\": \"eval_results/scr\",\n",
    "    \"tpp\": \"eval_results/tpp\",\n",
    "    \"sparse_probing\": \"eval_results/sparse_probing\",\n",
    "    \"unlearning\": \"eval_results/unlearning\",\n",
    "}\n",
    "\n",
    "# Note: Unlearning is not recommended for models with < 2B parameters and we recommend an instruct tuned model\n",
    "# Unlearning will also require requesting permission for the WMDP dataset (see unlearning/README.md)\n",
    "# Absorption not recommended for models < 2B parameters\n",
    "# asyncio doesn't like notebooks, so autointerp must be ran using a python script\n",
    "\n",
    "# Select your eval types here. \n",
    "eval_types = [\n",
    "    \"absorption\",\n",
    "    # \"autointerp\",\n",
    "    \"core\",\n",
    "    \"scr\",\n",
    "    \"tpp\",\n",
    "    \"sparse_probing\",\n",
    "    # \"unlearning\",\n",
    "]\n",
    "\n",
    "if \"autointerp\" in eval_types:\n",
    "    try:\n",
    "        with open(\"openai_api_key.txt\") as f:\n",
    "            api_key = f.read().strip()\n",
    "    except FileNotFoundError:\n",
    "        raise Exception(\"Please create openai_api_key.txt with your API key\")\n",
    "else:\n",
    "    api_key = None"
   ]
  },
  {
   "cell_type": "markdown",
   "metadata": {},
   "source": [
    "This cell loads your custom SAEs."
   ]
  },
  {
   "cell_type": "code",
   "execution_count": null,
   "metadata": {},
   "outputs": [],
   "source": [
    "device = general_utils.setup_environment()\n",
    "\n",
    "model_name = \"pythia-70m-deduped\"\n",
    "llm_batch_size = 512\n",
    "dtype = \"float32\"\n",
    "\n",
    "\n",
    "# If evaluating multiple SAEs on the same layer, set save_activations to True\n",
    "# This will require at least 100GB of disk space\n",
    "save_activations = False\n",
    "\n",
    "repo_id = \"canrager/lm_sae\"\n",
    "filename = \"pythia70m_sweep_standard_ctx128_0712/resid_post_layer_4/trainer_8/ae.pt\"\n",
    "hook_layer = 4\n",
    "hook_name = f\"blocks.{hook_layer}.hook_resid_post\"\n",
    "\n",
    "sae = vanilla_sae.load_vanilla_sae(repo_id, filename, hook_layer)\n",
    "sae = sae.to(device, dtype=general_utils.str_to_dtype(dtype))\n",
    "\n",
    "print(f\"sae dtype: {sae.dtype}, device: {sae.device}\")\n",
    "\n",
    "d_sae, d_in = sae.W_dec.data.shape\n",
    "\n",
    "print(f\"d_in: {d_in}, d_sae: {d_sae}\")\n",
    "\n",
    "sae.cfg = custom_sae_config.CustomSAEConfig(\n",
    "    model_name, d_in=d_in, d_sae=d_sae, hook_name=hook_name, hook_layer=hook_layer\n",
    ")\n",
    "\n",
    "# Annoyingly, for core evals we currently need to set the dtype in the config separately, and it must be a string\n",
    "sae.cfg.dtype = dtype\n",
    "\n",
    "custom_sae_id = filename.replace(\"/\", \"_\").replace(\".\", \"_\")\n",
    "print(f\"sae_id: {custom_sae_id}\")\n",
    "\n",
    "# list of tuple of (sae_id, sae object)\n",
    "selected_saes = [(custom_sae_id, sae)]\n"
   ]
  },
  {
   "cell_type": "markdown",
   "metadata": {},
   "source": [
    "Select your baseline SAEs here. Refer to `sae_regex_selection.ipynb` for more regex patterns. We are going to get a topk SAE from the same layer.\n",
    "\n",
    "`selected_saes` is a list of tuples of (sae_id, sae object) OR (sae lens release, sae lens id)."
   ]
  },
  {
   "cell_type": "code",
   "execution_count": null,
   "metadata": {},
   "outputs": [],
   "source": [
    "sae_regex_pattern = r\"(sae_bench_pythia70m_sweep_topk_ctx128_0730).*\"\n",
    "sae_block_pattern = r\".*blocks\\.([4])\\.hook_resid_post__trainer_(8)$\"\n",
    "\n",
    "baseline_saes = get_saes_from_regex(sae_regex_pattern, sae_block_pattern)\n",
    "print(f\"baseline_saes: {baseline_saes}\")\n",
    "selected_saes.extend(baseline_saes)\n",
    "baseline_sae_id = f\"{baseline_saes[0][0]}_{baseline_saes[0][1]}\".replace(\".\", \"_\")\n",
    "print(f\"baseline_sae_id: {baseline_sae_id}\")"
   ]
  },
  {
   "cell_type": "code",
   "execution_count": null,
   "metadata": {},
   "outputs": [],
   "source": [
    "_ = core.multiple_evals(\n",
    "    filtered_saes=selected_saes,\n",
    "    n_eval_reconstruction_batches=200,\n",
    "    n_eval_sparsity_variance_batches=200,\n",
    "    eval_batch_size_prompts=32,\n",
    "    compute_featurewise_density_statistics=False,\n",
    "    compute_featurewise_weight_based_metrics=False,\n",
    "    exclude_special_tokens_from_reconstruction=True,\n",
    "    dataset=\"Skylion007/openwebtext\",\n",
    "    context_size=128,\n",
    "    output_folder=\"eval_results/core\",\n",
    "    verbose=True,\n",
    "    dtype=dtype,\n",
    ")"
   ]
  },
  {
   "cell_type": "code",
   "execution_count": null,
   "metadata": {},
   "outputs": [],
   "source": [
    "# We do a subset of the sparse probing datasets here for shorter runtime\n",
    "dataset_names = [\"LabHC/bias_in_bios_class_set1\"]\n",
    "\n",
    "# TODO: Add a verbose flag\n",
    "\n",
    "_ = sparse_probing.run_eval(\n",
    "    sparse_probing.SparseProbingEvalConfig(\n",
    "        model_name=model_name,\n",
    "        random_seed=RANDOM_SEED,\n",
    "        llm_batch_size=llm_batch_size,\n",
    "        llm_dtype=dtype,\n",
    "        dataset_names=dataset_names,\n",
    "    ),\n",
    "    selected_saes,\n",
    "    device,\n",
    "    \"eval_results/sparse_probing\",\n",
    "    force_rerun=False,\n",
    "    clean_up_activations=True,\n",
    "    save_activations=save_activations,\n",
    ")\n"
   ]
  },
  {
   "cell_type": "markdown",
   "metadata": {},
   "source": [
    "The below cell will run all evals on the full datasets. By default, we don't do this as it's pretty time consuming (~1 hour)."
   ]
  },
  {
   "cell_type": "code",
   "execution_count": null,
   "metadata": {},
   "outputs": [],
   "source": [
    "# _ = run_all_evals_custom_saes.run_evals(\n",
    "#     model_name,\n",
    "#     selected_saes,\n",
    "#     llm_batch_size,\n",
    "#     dtype,\n",
    "#     device,\n",
    "#     eval_types,\n",
    "#     api_key,\n",
    "#     force_rerun=False,\n",
    "#     save_activations=save_activations,\n",
    "# )"
   ]
  },
  {
   "cell_type": "code",
   "execution_count": null,
   "metadata": {},
   "outputs": [],
   "source": [
    "import matplotlib.pyplot as plt\n",
    "import json\n",
    "import torch\n",
    "import pickle\n",
    "from typing import Optional\n",
    "from matplotlib.colors import Normalize\n",
    "import numpy as np\n",
    "import os\n",
    "\n",
    "from sae_bench_utils.graphing_utils import (\n",
    "    sae_name_to_info,\n",
    "    plot_2var_graph,\n",
    "    plot_2var_graph_dict_size,\n",
    "    plot_3var_graph,\n",
    "    plot_interactive_3var_graph,\n",
    "    plot_training_steps,\n",
    "    plot_correlation_heatmap,\n",
    "    plot_correlation_scatter,\n",
    ")\n",
    "\n",
    "from sae_bench_utils.sae_selection_utils import select_saes_multiple_patterns"
   ]
  },
  {
   "cell_type": "code",
   "execution_count": null,
   "metadata": {},
   "outputs": [],
   "source": [
    "eval_path = \"./eval_results/sparse_probing\"\n",
    "\n",
    "core_results_path = \"./eval_results/core\"\n",
    "image_path = \"./images\"\n",
    "\n",
    "if not os.path.exists(image_path):\n",
    "    os.makedirs(image_path)"
   ]
  },
  {
   "cell_type": "code",
   "execution_count": null,
   "metadata": {},
   "outputs": [],
   "source": [
    "core_results = {}\n",
    "\n",
    "# TODO: Come up with a better way than this janky manual id creation\n",
    "sae_ids = [custom_sae_id, baseline_sae_id]\n",
    "\n",
    "for sae_id in sae_ids:\n",
    "    if sae_id == custom_sae_id:\n",
    "        filename = f\"{sae_id}_custom_sae_128_Skylion007_openwebtext.json\"\n",
    "    else:\n",
    "        filename = f\"{sae_id}_128_Skylion007_openwebtext.json\"\n",
    "    filepath = os.path.join(core_results_path, filename)\n",
    "\n",
    "    with open(filepath, \"r\") as f:\n",
    "        single_sae_results = json.load(f)\n",
    "\n",
    "    l0 = single_sae_results[\"eval_result_metrics\"][\"sparsity\"][\"l0\"]\n",
    "    ce_score = single_sae_results[\"eval_result_metrics\"][\"model_performance_preservation\"][\n",
    "        \"ce_loss_score\"\n",
    "    ]\n",
    "\n",
    "    core_results[sae_id] = {\"l0\": l0, \"frac_recovered\": ce_score}"
   ]
  },
  {
   "cell_type": "code",
   "execution_count": null,
   "metadata": {},
   "outputs": [],
   "source": [
    "eval_results = {}\n",
    "llm_results = None\n",
    "for sae_id in sae_ids:\n",
    "    if sae_id == custom_sae_id:\n",
    "        filename = f\"{sae_id}_custom_sae_eval_results.json\"\n",
    "    else:\n",
    "        filename = f\"{sae_id}_eval_results.json\"\n",
    "    filepath = os.path.join(eval_path, filename)\n",
    "    with open(filepath, \"r\") as f:\n",
    "        single_sae_results = json.load(f)\n",
    "\n",
    "    print(single_sae_results[\"eval_result_metrics\"].keys())\n",
    "    eval_results[sae_id] = single_sae_results[\"eval_result_metrics\"][\"sae\"]\n",
    "    llm_results = single_sae_results[\"eval_result_metrics\"][\"llm\"]\n",
    "\n",
    "    eval_results[sae_id].update(core_results[sae_id])\n",
    "\n",
    "print(eval_results[custom_sae_id].keys())\n",
    "print(llm_results.keys())"
   ]
  },
  {
   "cell_type": "markdown",
   "metadata": {},
   "source": [
    "`trainer_markers` is a dict of sae_class to shape. Please replace `new_sae_key` with your preferred SAE class name."
   ]
  },
  {
   "cell_type": "code",
   "execution_count": null,
   "metadata": {},
   "outputs": [],
   "source": [
    "new_sae_key = \"Vanilla\"\n",
    "trainer_markers = {\n",
    "    \"Standard\": \"o\",\n",
    "    \"JumpReLU\": \"X\",\n",
    "    \"TopK\": \"^\",\n",
    "    \"Standard w/ p-annealing\": \"*\",\n",
    "    \"Gated\": \"d\",\n",
    "    new_sae_key: \"s\",  # New SAE\n",
    "}\n",
    "\n",
    "eval_results[custom_sae_id][\"sae_class\"] = new_sae_key\n",
    "eval_results[baseline_sae_id][\"sae_class\"] = \"TopK\""
   ]
  },
  {
   "cell_type": "code",
   "execution_count": null,
   "metadata": {},
   "outputs": [],
   "source": [
    "print(f\"Custom SAE top 1 accuracy was: {eval_results[custom_sae_id]['sae_top_1_test_accuracy']}\")\n",
    "print(\n",
    "    f\"Baseline SAE top 1 accuracy was: {eval_results[baseline_sae_id]['sae_top_1_test_accuracy']}\"\n",
    ")\n",
    "print(f\"LLM top 1 accuracy was: {llm_results['llm_top_1_test_accuracy']}\")"
   ]
  },
  {
   "cell_type": "code",
   "execution_count": null,
   "metadata": {},
   "outputs": [],
   "source": [
    "custom_metric = \"sae_top_1_test_accuracy\"\n",
    "\n",
    "title_3var = \"Sparse Probing vs L0 vs Loss Recovered\"\n",
    "title_2var = \"Sparse Probing vs L0\"\n",
    "custom_metric_name = \"Loss Recovered\"\n",
    "image_base_name = os.path.join(image_path, custom_metric)\n",
    "\n",
    "plot_3var_graph(\n",
    "    eval_results,\n",
    "    title_3var,\n",
    "    custom_metric,\n",
    "    colorbar_label=\"Custom Metric\",\n",
    "    output_filename=f\"{image_base_name}_3var.png\",\n",
    "    trainer_markers=trainer_markers,\n",
    ")\n",
    "plot_2var_graph(\n",
    "    eval_results,\n",
    "    custom_metric,\n",
    "    y_label=custom_metric_name,\n",
    "    title=title_2var,\n",
    "    output_filename=f\"{image_base_name}_2var.png\",\n",
    "    trainer_markers=trainer_markers,\n",
    ")"
   ]
  }
 ],
 "metadata": {
  "kernelspec": {
   "display_name": "base",
   "language": "python",
   "name": "python3"
  },
  "language_info": {
   "codemirror_mode": {
    "name": "ipython",
    "version": 3
   },
   "file_extension": ".py",
   "mimetype": "text/x-python",
   "name": "python",
   "nbconvert_exporter": "python",
   "pygments_lexer": "ipython3",
   "version": "3.10.13"
  }
 },
 "nbformat": 4,
 "nbformat_minor": 2
}
