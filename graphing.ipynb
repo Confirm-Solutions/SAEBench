{
 "cells": [
  {
   "cell_type": "markdown",
   "metadata": {},
   "source": [
    "# Plotting Custom Metric Results"
   ]
  },
  {
   "cell_type": "code",
   "execution_count": null,
   "metadata": {},
   "outputs": [],
   "source": [
    "%load_ext autoreload\n",
    "%autoreload 2"
   ]
  },
  {
   "cell_type": "code",
   "execution_count": null,
   "metadata": {},
   "outputs": [],
   "source": [
    "import matplotlib.pyplot as plt\n",
    "import json\n",
    "import torch\n",
    "import pickle\n",
    "from typing import Optional\n",
    "from matplotlib.colors import Normalize\n",
    "import numpy as np\n",
    "import os\n",
    "\n",
    "from graphing_utils import (\n",
    "    plot_2var_graph, \n",
    "    plot_3var_graph, \n",
    "    plot_interactive_3var_graph, \n",
    "    plot_training_steps,\n",
    "    plot_correlation_heatmap,\n",
    "    plot_correlation_scatter,\n",
    ")\n",
    "\n",
    "from formatting_utils import (\n",
    "    get_sparsity_penalty,\n",
    "    extract_saes_unique_info,\n",
    "    ae_config_results, \n",
    "    add_custom_metric_results, \n",
    "    filter_by_l0_threshold,\n",
    ")"
   ]
  },
  {
   "cell_type": "markdown",
   "metadata": {},
   "source": [
    "## Load data"
   ]
  },
  {
   "cell_type": "code",
   "execution_count": null,
   "metadata": {},
   "outputs": [],
   "source": [
    "image_folder_name = \"images\"\n",
    "\n",
    "if not os.path.exists(image_folder_name):\n",
    "    os.makedirs(image_folder_name)"
   ]
  },
  {
   "cell_type": "code",
   "execution_count": null,
   "metadata": {},
   "outputs": [],
   "source": [
    "## Example results for Pythia (does not contain training checkpoints)\n",
    "# release_name = \"sae_bench_pythia70m_sweep_topk_ctx128_0730\"\n",
    "\n",
    "## Example results for Gemma (does contain training checkpoints)\n",
    "release_name = \"sae_bench_gemma-2-2b_sweep_topk_ctx128_ef8_0824\"\n",
    "\n",
    "folder_path = \"sparse_probing/sparse_probing_results\"\n",
    "filename = f\"example_results_{release_name}_eval_results.json\"\n",
    "\n",
    "filepath = os.path.join(folder_path, filename)\n",
    "\n",
    "with open(filepath, \"r\") as f:\n",
    "    eval_results = json.load(f)"
   ]
  },
  {
   "cell_type": "code",
   "execution_count": null,
   "metadata": {},
   "outputs": [],
   "source": [
    "sae_names = list(eval_results[\"custom_eval_results\"].keys())\n",
    "\n",
    "print(eval_results.keys())\n",
    "print('\\nAvailable SAEs:\\n', eval_results[\"custom_eval_results\"].keys())\n",
    "print('\\nAvailable custom metrics:\\n', eval_results[\"custom_eval_results\"][sae_names[0]].keys())"
   ]
  },
  {
   "cell_type": "code",
   "execution_count": null,
   "metadata": {},
   "outputs": [],
   "source": [
    "sae_data_filename = f\"sae_bench_data/{release_name}_data.json\"\n",
    "\n",
    "with open(sae_data_filename, \"r\") as f:\n",
    "    sae_data = json.load(f)"
   ]
  },
  {
   "cell_type": "code",
   "execution_count": null,
   "metadata": {},
   "outputs": [],
   "source": [
    "print(sae_data.keys())\n",
    "# print('\\nAvailable SAEs:\\n', sae_data[\"basic_eval_results\"].keys())\n",
    "\n",
    "first_sae_name = next(iter(sae_data[\"basic_eval_results\"]))\n",
    "print('\\nAvailable basic metrics:\\n', sae_data['basic_eval_results'][first_sae_name].keys())"
   ]
  },
  {
   "cell_type": "code",
   "execution_count": null,
   "metadata": {},
   "outputs": [],
   "source": [
    "first_sae_name = next(iter(sae_data[\"sae_config_dictionary_learning\"]))\n",
    "print('\\nAvailable basic metrics:\\n', sae_data['sae_config_dictionary_learning'][first_sae_name]['trainer'].keys())"
   ]
  },
  {
   "cell_type": "code",
   "execution_count": null,
   "metadata": {},
   "outputs": [],
   "source": [
    "# Gather all values in one dict for plotting\n",
    "plotting_results = eval_results['custom_eval_results']\n",
    "\n",
    "for sae_name in eval_results['custom_eval_results']:\n",
    "    plotting_results[sae_name]['l0'] = sae_data['basic_eval_results'][sae_name]['l0']\n",
    "    plotting_results[sae_name]['sparsity_penalty'] = get_sparsity_penalty(sae_data['sae_config_dictionary_learning'][sae_name])\n",
    "    plotting_results[sae_name]['frac_recovered'] = sae_data['basic_eval_results'][sae_name]['frac_recovered']\n",
    "\n",
    "    # Add all trainer info\n",
    "    plotting_results[sae_name] = plotting_results[sae_name] | sae_data['sae_config_dictionary_learning'][sae_name]['trainer']\n",
    "    plotting_results[sae_name]['buffer'] = sae_data['sae_config_dictionary_learning'][sae_name]['buffer']"
   ]
  },
  {
   "cell_type": "markdown",
   "metadata": {},
   "source": [
    "## Plot custom metric above unsupervised metrics"
   ]
  },
  {
   "cell_type": "code",
   "execution_count": null,
   "metadata": {},
   "outputs": [],
   "source": [
    "k=100\n",
    "custom_metric = f'sae_top_{k}_test_accuracy'\n",
    "\n",
    "custom_metric_name = f\"k={k}-Sparse Probe Accuracy\"\n",
    "title = f\"L0 vs Loss Recovered vs {custom_metric_name}\"\n",
    "image_base_name = os.path.join(image_folder_name, custom_metric)\n",
    "\n",
    "plot_3var_graph(\n",
    "    plotting_results,\n",
    "    title,\n",
    "    custom_metric,\n",
    "    colorbar_label=\"Custom Metric\",\n",
    "    output_filename=f\"{image_base_name}_3var.png\",\n",
    ")\n",
    "plot_2var_graph(\n",
    "    plotting_results,\n",
    "    custom_metric,\n",
    "    title=title,\n",
    "    output_filename=f\"{image_base_name}_2var.png\",\n",
    ")\n",
    "# plot_interactive_3var_graph(plotting_results, custom_metric)\n",
    "\n",
    "# At this point, if there's any additional .json files located alongside the ae.pt and eval_results.json\n",
    "# You can easily adapt them to be included in the plotting_results dictionary by using something similar to add_ae_config_results()"
   ]
  },
  {
   "cell_type": "markdown",
   "metadata": {},
   "source": [
    "### ...with interactive hovering"
   ]
  },
  {
   "cell_type": "code",
   "execution_count": null,
   "metadata": {},
   "outputs": [],
   "source": [
    "plot_interactive_3var_graph(\n",
    "    plotting_results,\n",
    "    custom_metric,\n",
    "    title=title,\n",
    "    output_filename=f\"{image_base_name}_3var_interactive.html\",\n",
    ")"
   ]
  },
  {
   "cell_type": "markdown",
   "metadata": {},
   "source": [
    "## Plot metric over training checkpoints"
   ]
  },
  {
   "cell_type": "code",
   "execution_count": null,
   "metadata": {},
   "outputs": [],
   "source": [
    "# Check which SAEs with checkpoints are actually available\n",
    "extract_saes_unique_info(sae_names, checkpoint_only=True)"
   ]
  },
  {
   "cell_type": "markdown",
   "metadata": {},
   "source": [
    "If the list above is empty, there are no checkpoints available. The plot below will only show values for the final training step."
   ]
  },
  {
   "cell_type": "code",
   "execution_count": null,
   "metadata": {},
   "outputs": [],
   "source": [
    "plot_training_steps(\n",
    "    plotting_results,\n",
    "    custom_metric,\n",
    "    title=f\"Steps vs {custom_metric_name}\",\n",
    "    output_filename=f\"{image_base_name}_steps_vs_diff.png\",\n",
    ")"
   ]
  },
  {
   "cell_type": "markdown",
   "metadata": {},
   "source": [
    "## Plot metric correlations"
   ]
  },
  {
   "cell_type": "code",
   "execution_count": null,
   "metadata": {},
   "outputs": [],
   "source": [
    "k=100\n",
    "custom_metric = f'sae_top_{k}_test_accuracy'\n",
    "\n",
    "metric_keys = [\n",
    "    \"l0\",\n",
    "    \"frac_recovered\",\n",
    "    custom_metric,\n",
    "]\n",
    "\n",
    "plot_correlation_heatmap(plotting_results, metric_names=metric_keys, ae_names=None)"
   ]
  },
  {
   "cell_type": "code",
   "execution_count": null,
   "metadata": {},
   "outputs": [],
   "source": [
    "# Simple example usage:\n",
    "# plot_metric_scatter(plotting_results, metric_x=\"l0\", metric_y=\"frac_recovered\", title=\"L0 vs Fraction Recovered\")\n",
    "\n",
    "threshold_x = 50\n",
    "threshold_y = 100\n",
    "\n",
    "metric_x = f\"sae_top_{threshold_x}_test_accuracy\"\n",
    "metric_y = f\"sae_top_{threshold_y}_test_accuracy\"\n",
    "\n",
    "title = f\"\"\n",
    "x_label = \"k=1 Sparse Probe Accuracy\"\n",
    "y_label = \"k=100 Sparse Probe Accuracy\"\n",
    "output_filename = os.path.join(image_folder_name, f\"sparse_probing_result_correlation_for_thresholds_{threshold_y}_{threshold_y}.png\")\n",
    "\n",
    "plot_correlation_scatter(\n",
    "    plotting_results,\n",
    "    metric_x=metric_x,\n",
    "    metric_y=metric_y,\n",
    "    title=title,\n",
    "    x_label=x_label,\n",
    "    y_label=y_label,\n",
    "    output_filename=output_filename,\n",
    ")\n"
   ]
  },
  {
   "cell_type": "code",
   "execution_count": null,
   "metadata": {},
   "outputs": [],
   "source": []
  }
 ],
 "metadata": {
  "kernelspec": {
   "display_name": "venv",
   "language": "python",
   "name": "python3"
  },
  "language_info": {
   "codemirror_mode": {
    "name": "ipython",
    "version": 3
   },
   "file_extension": ".py",
   "mimetype": "text/x-python",
   "name": "python",
   "nbconvert_exporter": "python",
   "pygments_lexer": "ipython3",
   "version": "3.11.9"
  }
 },
 "nbformat": 4,
 "nbformat_minor": 2
}
