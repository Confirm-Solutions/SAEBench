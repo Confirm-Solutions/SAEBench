{
 "cells": [
  {
   "cell_type": "code",
   "execution_count": null,
   "metadata": {},
   "outputs": [],
   "source": [
    "\n",
    "%load_ext autoreload\n",
    "%autoreload 2"
   ]
  },
  {
   "cell_type": "code",
   "execution_count": null,
   "metadata": {},
   "outputs": [],
   "source": [
    "import sae_bench_utils.dataset_utils as dataset_utils\n",
    "import sae_bench_utils.dataset_info as dataset_info\n",
    "\n",
    "\n",
    "dataset_name = \"canrager/amazon_reviews_mcauley_1and5_sentiment\"\n",
    "\n",
    "\n"
   ]
  },
  {
   "cell_type": "code",
   "execution_count": null,
   "metadata": {},
   "outputs": [],
   "source": [
    "train_data, test_data = dataset_utils.get_multi_label_train_test_data(dataset_name, 4000, 1000, 42)"
   ]
  },
  {
   "cell_type": "code",
   "execution_count": null,
   "metadata": {},
   "outputs": [],
   "source": [
    "print(train_data.keys())\n",
    "print(train_data[\"1.0\"][0])\n",
    "print(train_data[\"5.0\"][0])\n",
    "print(len(train_data[\"1.0\"]))"
   ]
  },
  {
   "cell_type": "code",
   "execution_count": null,
   "metadata": {},
   "outputs": [],
   "source": [
    "new_dataset_name = \"codeparrot/github-code\"\n",
    "languages = ['C', 'Python', 'HTML', 'Java', 'PHP']\n",
    "\n",
    "train_code_data, test_code_data = dataset_utils.get_github_code_dataset(new_dataset_name, languages, 4000, 1000, 42)\n"
   ]
  },
  {
   "cell_type": "code",
   "execution_count": null,
   "metadata": {},
   "outputs": [],
   "source": [
    "new_dataset_name2 = \"fancyzhx/ag_news\"\n",
    "chosen_classes = dataset_info.chosen_classes_per_dataset[new_dataset_name2]\n",
    "\n",
    "train_news_data, test_news_data = dataset_utils.get_ag_news_dataset(new_dataset_name2, chosen_classes, 4000, 1000, 42)"
   ]
  },
  {
   "cell_type": "code",
   "execution_count": null,
   "metadata": {},
   "outputs": [],
   "source": [
    "new_dataset_name3 = \"Helsinki-NLP/europarl\"\n",
    "chosen_classes = dataset_info.chosen_classes_per_dataset[new_dataset_name3]\n",
    "\n",
    "train_news_data, test_news_data = dataset_utils.get_ag_news_dataset(new_dataset_name3, chosen_classes, 4000, 1000, 42)"
   ]
  },
  {
   "cell_type": "code",
   "execution_count": null,
   "metadata": {},
   "outputs": [],
   "source": [
    "print(train_code_data.keys())\n",
    "print(train_code_data[\"C\"][0])"
   ]
  },
  {
   "cell_type": "code",
   "execution_count": null,
   "metadata": {},
   "outputs": [],
   "source": [
    "\n",
    "train_data, test_data = dataset_utils.get_multi_label_train_test_data(\n",
    "    train_df,\n",
    "    test_df,\n",
    "    dataset_name,\n",
    "    4000,\n",
    "    1000,\n",
    "    42,\n",
    ")\n",
    "\n",
    "chosen_classes = dataset_info.chosen_classes_per_dataset[dataset_name]\n",
    "\n",
    "train_data = dataset_utils.filter_dataset(train_data, chosen_classes)\n",
    "test_data = dataset_utils.filter_dataset(test_data, chosen_classes)"
   ]
  }
 ],
 "metadata": {
  "kernelspec": {
   "display_name": "base",
   "language": "python",
   "name": "python3"
  },
  "language_info": {
   "codemirror_mode": {
    "name": "ipython",
    "version": 3
   },
   "file_extension": ".py",
   "mimetype": "text/x-python",
   "name": "python",
   "nbconvert_exporter": "python",
   "pygments_lexer": "ipython3",
   "version": "3.11.9"
  }
 },
 "nbformat": 4,
 "nbformat_minor": 2
}
