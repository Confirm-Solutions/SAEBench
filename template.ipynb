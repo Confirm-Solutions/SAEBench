{
 "cells": [
  {
   "cell_type": "markdown",
   "metadata": {},
   "source": [
    "The following cell will display the dataframe containing SAEBench releases and saes."
   ]
  },
  {
   "cell_type": "code",
   "execution_count": 10,
   "metadata": {},
   "outputs": [
    {
     "data": {
      "text/html": [
       "<div>\n",
       "<style scoped>\n",
       "    .dataframe tbody tr th:only-of-type {\n",
       "        vertical-align: middle;\n",
       "    }\n",
       "\n",
       "    .dataframe tbody tr th {\n",
       "        vertical-align: top;\n",
       "    }\n",
       "\n",
       "    .dataframe thead th {\n",
       "        text-align: right;\n",
       "    }\n",
       "</style>\n",
       "<table border=\"1\" class=\"dataframe\">\n",
       "  <thead>\n",
       "    <tr style=\"text-align: right;\">\n",
       "      <th></th>\n",
       "      <th>release</th>\n",
       "      <th>model</th>\n",
       "      <th>unique_hook_points</th>\n",
       "      <th>n_saes_per_hook</th>\n",
       "      <th>has_training_checkpoints</th>\n",
       "      <th>saes_map</th>\n",
       "    </tr>\n",
       "  </thead>\n",
       "  <tbody>\n",
       "    <tr>\n",
       "      <th>0</th>\n",
       "      <td>sae_bench_gemma-2-2b_sweep_standard_ctx128_ef2_0824</td>\n",
       "      <td>gemma-2-2b</td>\n",
       "      <td>[blocks.15.hook_resid_post, blocks.3.hook_resid_post, blocks.7.hook_resid_post, blocks.11.hook_resid_post, blocks.19.hook_resid_post]</td>\n",
       "      <td>6</td>\n",
       "      <td>True</td>\n",
       "      <td>{'blocks.3.hook_resid_post__trainer_1_step_29292': 'gemma-2-2b_sweep_standard_ctx128_ef2_0824/resid_post_layer_3_checkpoints/trainer_1_step...</td>\n",
       "    </tr>\n",
       "    <tr>\n",
       "      <th>1</th>\n",
       "      <td>sae_bench_gemma-2-2b_sweep_standard_ctx128_ef8_0824</td>\n",
       "      <td>gemma-2-2b</td>\n",
       "      <td>[blocks.15.hook_resid_post, blocks.3.hook_resid_post, blocks.7.hook_resid_post, blocks.11.hook_resid_post, blocks.19.hook_resid_post]</td>\n",
       "      <td>6</td>\n",
       "      <td>True</td>\n",
       "      <td>{'blocks.3.hook_resid_post__trainer_5_step_4882': 'gemma-2-2b_sweep_standard_ctx128_ef8_0824/resid_post_layer_3_checkpoints/trainer_5_step_...</td>\n",
       "    </tr>\n",
       "    <tr>\n",
       "      <th>2</th>\n",
       "      <td>sae_bench_gemma-2-2b_sweep_topk_ctx128_ef2_0824</td>\n",
       "      <td>gemma-2-2b</td>\n",
       "      <td>[blocks.15.hook_resid_post, blocks.3.hook_resid_post, blocks.7.hook_resid_post, blocks.11.hook_resid_post, blocks.19.hook_resid_post]</td>\n",
       "      <td>6</td>\n",
       "      <td>True</td>\n",
       "      <td>{'blocks.3.hook_resid_post__trainer_2_step_9764': 'gemma-2-2b_sweep_topk_ctx128_ef2_0824/resid_post_layer_3_checkpoints/trainer_2_step_9764...</td>\n",
       "    </tr>\n",
       "    <tr>\n",
       "      <th>3</th>\n",
       "      <td>sae_bench_gemma-2-2b_sweep_topk_ctx128_ef8_0824</td>\n",
       "      <td>gemma-2-2b</td>\n",
       "      <td>[blocks.15.hook_resid_post, blocks.3.hook_resid_post, blocks.7.hook_resid_post, blocks.11.hook_resid_post, blocks.19.hook_resid_post]</td>\n",
       "      <td>6</td>\n",
       "      <td>True</td>\n",
       "      <td>{'blocks.3.hook_resid_post__trainer_3': 'gemma-2-2b_sweep_topk_ctx128_ef8_0824/resid_post_layer_3/trainer_3', 'blocks.3.hook_resid_post__tr...</td>\n",
       "    </tr>\n",
       "    <tr>\n",
       "      <th>4</th>\n",
       "      <td>sae_bench_pythia70m_sweep_gated_ctx128_0730</td>\n",
       "      <td>pythia-70m</td>\n",
       "      <td>[blocks.4.hook_resid_post, blocks.3.hook_resid_post]</td>\n",
       "      <td>20</td>\n",
       "      <td>False</td>\n",
       "      <td>{'blocks.3.hook_resid_post__trainer_0': 'pythia70m_sweep_gated_ctx128_0730/resid_post_layer_3/trainer_0', 'blocks.3.hook_resid_post__traine...</td>\n",
       "    </tr>\n",
       "    <tr>\n",
       "      <th>5</th>\n",
       "      <td>sae_bench_pythia70m_sweep_panneal_ctx128_0730</td>\n",
       "      <td>pythia-70m</td>\n",
       "      <td>[blocks.4.hook_resid_post, blocks.3.hook_resid_post]</td>\n",
       "      <td>28</td>\n",
       "      <td>False</td>\n",
       "      <td>{'blocks.3.hook_resid_post__trainer_16': 'pythia70m_sweep_panneal_ctx128_0730/resid_post_layer_3/trainer_16', 'blocks.3.hook_resid_post__tr...</td>\n",
       "    </tr>\n",
       "    <tr>\n",
       "      <th>6</th>\n",
       "      <td>sae_bench_pythia70m_sweep_standard_ctx128_0712</td>\n",
       "      <td>pythia-70m</td>\n",
       "      <td>[blocks.4.hook_resid_post, blocks.3.hook_resid_post]</td>\n",
       "      <td>24</td>\n",
       "      <td>False</td>\n",
       "      <td>{'blocks.3.hook_resid_post__trainer_10': 'pythia70m_sweep_standard_ctx128_0712/resid_post_layer_3/trainer_10', 'blocks.3.hook_resid_post__t...</td>\n",
       "    </tr>\n",
       "    <tr>\n",
       "      <th>7</th>\n",
       "      <td>sae_bench_pythia70m_sweep_topk_ctx128_0730</td>\n",
       "      <td>pythia-70m</td>\n",
       "      <td>[blocks.4.hook_resid_post, blocks.3.hook_resid_post]</td>\n",
       "      <td>24</td>\n",
       "      <td>False</td>\n",
       "      <td>{'blocks.3.hook_resid_post__trainer_0': 'pythia70m_sweep_topk_ctx128_0730/resid_post_layer_3/trainer_0', 'blocks.3.hook_resid_post__trainer...</td>\n",
       "    </tr>\n",
       "  </tbody>\n",
       "</table>\n",
       "</div>"
      ],
      "text/plain": [
       "                                               release       model  \\\n",
       "0  sae_bench_gemma-2-2b_sweep_standard_ctx128_ef2_0824  gemma-2-2b   \n",
       "1  sae_bench_gemma-2-2b_sweep_standard_ctx128_ef8_0824  gemma-2-2b   \n",
       "2      sae_bench_gemma-2-2b_sweep_topk_ctx128_ef2_0824  gemma-2-2b   \n",
       "3      sae_bench_gemma-2-2b_sweep_topk_ctx128_ef8_0824  gemma-2-2b   \n",
       "4          sae_bench_pythia70m_sweep_gated_ctx128_0730  pythia-70m   \n",
       "5        sae_bench_pythia70m_sweep_panneal_ctx128_0730  pythia-70m   \n",
       "6       sae_bench_pythia70m_sweep_standard_ctx128_0712  pythia-70m   \n",
       "7           sae_bench_pythia70m_sweep_topk_ctx128_0730  pythia-70m   \n",
       "\n",
       "                                                                                                                      unique_hook_points  \\\n",
       "0  [blocks.15.hook_resid_post, blocks.3.hook_resid_post, blocks.7.hook_resid_post, blocks.11.hook_resid_post, blocks.19.hook_resid_post]   \n",
       "1  [blocks.15.hook_resid_post, blocks.3.hook_resid_post, blocks.7.hook_resid_post, blocks.11.hook_resid_post, blocks.19.hook_resid_post]   \n",
       "2  [blocks.15.hook_resid_post, blocks.3.hook_resid_post, blocks.7.hook_resid_post, blocks.11.hook_resid_post, blocks.19.hook_resid_post]   \n",
       "3  [blocks.15.hook_resid_post, blocks.3.hook_resid_post, blocks.7.hook_resid_post, blocks.11.hook_resid_post, blocks.19.hook_resid_post]   \n",
       "4                                                                                   [blocks.4.hook_resid_post, blocks.3.hook_resid_post]   \n",
       "5                                                                                   [blocks.4.hook_resid_post, blocks.3.hook_resid_post]   \n",
       "6                                                                                   [blocks.4.hook_resid_post, blocks.3.hook_resid_post]   \n",
       "7                                                                                   [blocks.4.hook_resid_post, blocks.3.hook_resid_post]   \n",
       "\n",
       "   n_saes_per_hook  has_training_checkpoints  \\\n",
       "0                6                      True   \n",
       "1                6                      True   \n",
       "2                6                      True   \n",
       "3                6                      True   \n",
       "4               20                     False   \n",
       "5               28                     False   \n",
       "6               24                     False   \n",
       "7               24                     False   \n",
       "\n",
       "                                                                                                                                         saes_map  \n",
       "0  {'blocks.3.hook_resid_post__trainer_1_step_29292': 'gemma-2-2b_sweep_standard_ctx128_ef2_0824/resid_post_layer_3_checkpoints/trainer_1_step...  \n",
       "1  {'blocks.3.hook_resid_post__trainer_5_step_4882': 'gemma-2-2b_sweep_standard_ctx128_ef8_0824/resid_post_layer_3_checkpoints/trainer_5_step_...  \n",
       "2  {'blocks.3.hook_resid_post__trainer_2_step_9764': 'gemma-2-2b_sweep_topk_ctx128_ef2_0824/resid_post_layer_3_checkpoints/trainer_2_step_9764...  \n",
       "3  {'blocks.3.hook_resid_post__trainer_3': 'gemma-2-2b_sweep_topk_ctx128_ef8_0824/resid_post_layer_3/trainer_3', 'blocks.3.hook_resid_post__tr...  \n",
       "4  {'blocks.3.hook_resid_post__trainer_0': 'pythia70m_sweep_gated_ctx128_0730/resid_post_layer_3/trainer_0', 'blocks.3.hook_resid_post__traine...  \n",
       "5  {'blocks.3.hook_resid_post__trainer_16': 'pythia70m_sweep_panneal_ctx128_0730/resid_post_layer_3/trainer_16', 'blocks.3.hook_resid_post__tr...  \n",
       "6  {'blocks.3.hook_resid_post__trainer_10': 'pythia70m_sweep_standard_ctx128_0712/resid_post_layer_3/trainer_10', 'blocks.3.hook_resid_post__t...  \n",
       "7  {'blocks.3.hook_resid_post__trainer_0': 'pythia70m_sweep_topk_ctx128_0730/resid_post_layer_3/trainer_0', 'blocks.3.hook_resid_post__trainer...  "
      ]
     },
     "execution_count": 10,
     "metadata": {},
     "output_type": "execute_result"
    }
   ],
   "source": [
    "import pandas as pd\n",
    "import os\n",
    "import re\n",
    "import json\n",
    "\n",
    "import utils.formatting_utils as formatting_utils\n",
    "\n",
    "overview_df = formatting_utils.make_available_sae_df(for_printing=True)\n",
    "\n",
    "# pandas display options\n",
    "max_hook_point_length = overview_df[\"unique_hook_points\"].astype(str).map(len).max()\n",
    "pd.set_option(\"display.max_columns\", None)\n",
    "pd.set_option(\"display.width\", None)\n",
    "pd.set_option(\"display.max_colwidth\", int(max_hook_point_length))\n",
    "\n",
    "# print selected columns\n",
    "show_cols = [\n",
    "    \"release\",\n",
    "    \"model\",\n",
    "    \"unique_hook_points\",\n",
    "    \"n_saes_per_hook\",\n",
    "    \"has_training_checkpoints\",\n",
    "    \"saes_map\",\n",
    "]\n",
    "overview_df[show_cols]"
   ]
  },
  {
   "cell_type": "markdown",
   "metadata": {},
   "source": [
    "Each row is a \"release\" which has multiple SAEs which may have different configs / match different hook points in a model. These are 8 SAE Bench releases: 4 for Pythia and 4 for Gemma-2-2B."
   ]
  },
  {
   "cell_type": "markdown",
   "metadata": {},
   "source": [
    "Each release will contain an saes_map, a dict of sae_id: sae_name. The `sae_ids` are SAE Lens specific, used to load the SAEs into SAELens.\n",
    "\n",
    "In this project, we use the `sae_names` as keys in our results dictionaries, rather than the sae_ids. This is because the names are unique, and there's no possibility of mixing data between different SAEs."
   ]
  },
  {
   "cell_type": "code",
   "execution_count": 11,
   "metadata": {},
   "outputs": [
    {
     "name": "stdout",
     "output_type": "stream",
     "text": [
      "First sae id: blocks.3.hook_resid_post__trainer_3\n",
      "First sae name: gemma-2-2b_sweep_topk_ctx128_ef8_0824/resid_post_layer_3/trainer_3\n"
     ]
    }
   ],
   "source": [
    "sae_df = formatting_utils.make_available_sae_df(for_printing=False)\n",
    "\n",
    "sae_release = \"sae_bench_gemma-2-2b_sweep_topk_ctx128_ef8_0824\"\n",
    "\n",
    "sae_id_to_name_map = sae_df.saes_map[sae_release]\n",
    "sae_name_to_id_map = {v: k for k, v in sae_id_to_name_map.items()}\n",
    "\n",
    "print(f\"First sae id: {list(sae_id_to_name_map.keys())[0]}\")\n",
    "print(f\"First sae name: {list(sae_id_to_name_map.values())[0]}\")"
   ]
  },
  {
   "cell_type": "markdown",
   "metadata": {},
   "source": [
    "As an example, here's a dictionary of sae_release: all saes for a given layer for that Gemma release. This is the input format that we are using for `sparse_probing/`. Note that in this particular example we are not including checkpoints."
   ]
  },
  {
   "cell_type": "code",
   "execution_count": 12,
   "metadata": {},
   "outputs": [
    {
     "name": "stdout",
     "output_type": "stream",
     "text": [
      "\n",
      "\n",
      " gemma-scope-2b-pt-res \n",
      "\n",
      " ['layer_19/width_16k/average_l0_137', 'layer_19/width_16k/average_l0_23', 'layer_19/width_16k/average_l0_279', 'layer_19/width_16k/average_l0_40', 'layer_19/width_16k/average_l0_73']\n",
      "\n",
      "\n",
      " sae_bench_gemma-2-2b_sweep_topk_ctx128_ef8_0824 \n",
      "\n",
      " ['gemma-2-2b_sweep_topk_ctx128_ef8_0824/resid_post_layer_19/trainer_5', 'gemma-2-2b_sweep_topk_ctx128_ef8_0824/resid_post_layer_19/trainer_4', 'gemma-2-2b_sweep_topk_ctx128_ef8_0824/resid_post_layer_19/trainer_3', 'gemma-2-2b_sweep_topk_ctx128_ef8_0824/resid_post_layer_19/trainer_2', 'gemma-2-2b_sweep_topk_ctx128_ef8_0824/resid_post_layer_19/trainer_1', 'gemma-2-2b_sweep_topk_ctx128_ef8_0824/resid_post_layer_19/trainer_0']\n",
      "\n",
      "\n",
      " sae_bench_gemma-2-2b_sweep_standard_ctx128_ef8_0824 \n",
      "\n",
      " ['gemma-2-2b_sweep_standard_ctx128_ef8_0824/resid_post_layer_19/trainer_2', 'gemma-2-2b_sweep_standard_ctx128_ef8_0824/resid_post_layer_19/trainer_3', 'gemma-2-2b_sweep_standard_ctx128_ef8_0824/resid_post_layer_19/trainer_4', 'gemma-2-2b_sweep_standard_ctx128_ef8_0824/resid_post_layer_19/trainer_5', 'gemma-2-2b_sweep_standard_ctx128_ef8_0824/resid_post_layer_19/trainer_1', 'gemma-2-2b_sweep_standard_ctx128_ef8_0824/resid_post_layer_19/trainer_0']\n"
     ]
    }
   ],
   "source": [
    "sae_releases = [\n",
    "    \"gemma-scope-2b-pt-res\",\n",
    "    \"sae_bench_gemma-2-2b_sweep_topk_ctx128_ef8_0824\",\n",
    "    \"sae_bench_gemma-2-2b_sweep_standard_ctx128_ef8_0824\",\n",
    "]\n",
    "\n",
    "layer = 19\n",
    "\n",
    "selected_saes_dict = {}\n",
    "\n",
    "for release in sae_releases:\n",
    "    if \"gemma-scope\" in release:\n",
    "        selected_saes_dict[release] = formatting_utils.find_gemmascope_average_l0_sae_names(layer)\n",
    "    else:\n",
    "        selected_saes_dict[release] = formatting_utils.filter_sae_names(\n",
    "            sae_names=release, layers=[layer], include_checkpoints=False, trainer_ids=None\n",
    "        )\n",
    "\n",
    "for key in selected_saes_dict:\n",
    "    print(\"\\n\\n\", key, \"\\n\\n\",selected_saes_dict[key])"
   ]
  },
  {
   "cell_type": "markdown",
   "metadata": {},
   "source": [
    "This cells gets all Gemma checkpoints. Notice that it also includes the final SAE, which is not included in the checkpoints folder."
   ]
  },
  {
   "cell_type": "code",
   "execution_count": 13,
   "metadata": {},
   "outputs": [
    {
     "name": "stdout",
     "output_type": "stream",
     "text": [
      "\n",
      "\n",
      " sae_bench_gemma-2-2b_sweep_topk_ctx128_ef8_0824 \n",
      "\n",
      " ['gemma-2-2b_sweep_topk_ctx128_ef8_0824/resid_post_layer_19_checkpoints/trainer_4_step_0', 'gemma-2-2b_sweep_topk_ctx128_ef8_0824/resid_post_layer_19_checkpoints/trainer_3_step_4882', 'gemma-2-2b_sweep_topk_ctx128_ef8_0824/resid_post_layer_19_checkpoints/trainer_3_step_488', 'gemma-2-2b_sweep_topk_ctx128_ef8_0824/resid_post_layer_19_checkpoints/trainer_3_step_48', 'gemma-2-2b_sweep_topk_ctx128_ef8_0824/resid_post_layer_19_checkpoints/trainer_3_step_15440', 'gemma-2-2b_sweep_topk_ctx128_ef8_0824/resid_post_layer_19_checkpoints/trainer_3_step_1544', 'gemma-2-2b_sweep_topk_ctx128_ef8_0824/resid_post_layer_19_checkpoints/trainer_3_step_154', 'gemma-2-2b_sweep_topk_ctx128_ef8_0824/resid_post_layer_19_checkpoints/trainer_3_step_0', 'gemma-2-2b_sweep_topk_ctx128_ef8_0824/resid_post_layer_19_checkpoints/trainer_0_step_154', 'gemma-2-2b_sweep_topk_ctx128_ef8_0824/resid_post_layer_19_checkpoints/trainer_0_step_0', 'gemma-2-2b_sweep_topk_ctx128_ef8_0824/resid_post_layer_19/trainer_5', 'gemma-2-2b_sweep_topk_ctx128_ef8_0824/resid_post_layer_19/trainer_4', 'gemma-2-2b_sweep_topk_ctx128_ef8_0824/resid_post_layer_19/trainer_3', 'gemma-2-2b_sweep_topk_ctx128_ef8_0824/resid_post_layer_19/trainer_2', 'gemma-2-2b_sweep_topk_ctx128_ef8_0824/resid_post_layer_19/trainer_1', 'gemma-2-2b_sweep_topk_ctx128_ef8_0824/resid_post_layer_19/trainer_0', 'gemma-2-2b_sweep_topk_ctx128_ef8_0824/resid_post_layer_19_checkpoints/trainer_0_step_1544', 'gemma-2-2b_sweep_topk_ctx128_ef8_0824/resid_post_layer_19_checkpoints/trainer_0_step_15440', 'gemma-2-2b_sweep_topk_ctx128_ef8_0824/resid_post_layer_19_checkpoints/trainer_0_step_48', 'gemma-2-2b_sweep_topk_ctx128_ef8_0824/resid_post_layer_19_checkpoints/trainer_2_step_4882', 'gemma-2-2b_sweep_topk_ctx128_ef8_0824/resid_post_layer_19_checkpoints/trainer_2_step_488', 'gemma-2-2b_sweep_topk_ctx128_ef8_0824/resid_post_layer_19_checkpoints/trainer_2_step_48', 'gemma-2-2b_sweep_topk_ctx128_ef8_0824/resid_post_layer_19_checkpoints/trainer_2_step_15440', 'gemma-2-2b_sweep_topk_ctx128_ef8_0824/resid_post_layer_19_checkpoints/trainer_2_step_1544', 'gemma-2-2b_sweep_topk_ctx128_ef8_0824/resid_post_layer_19_checkpoints/trainer_2_step_154', 'gemma-2-2b_sweep_topk_ctx128_ef8_0824/resid_post_layer_19_checkpoints/trainer_2_step_0', 'gemma-2-2b_sweep_topk_ctx128_ef8_0824/resid_post_layer_19_checkpoints/trainer_1_step_4882', 'gemma-2-2b_sweep_topk_ctx128_ef8_0824/resid_post_layer_19_checkpoints/trainer_1_step_48', 'gemma-2-2b_sweep_topk_ctx128_ef8_0824/resid_post_layer_19_checkpoints/trainer_1_step_1544', 'gemma-2-2b_sweep_topk_ctx128_ef8_0824/resid_post_layer_19_checkpoints/trainer_1_step_154', 'gemma-2-2b_sweep_topk_ctx128_ef8_0824/resid_post_layer_19_checkpoints/trainer_1_step_0', 'gemma-2-2b_sweep_topk_ctx128_ef8_0824/resid_post_layer_19_checkpoints/trainer_0_step_4882', 'gemma-2-2b_sweep_topk_ctx128_ef8_0824/resid_post_layer_19_checkpoints/trainer_0_step_488', 'gemma-2-2b_sweep_topk_ctx128_ef8_0824/resid_post_layer_19_checkpoints/trainer_1_step_488', 'gemma-2-2b_sweep_topk_ctx128_ef8_0824/resid_post_layer_19_checkpoints/trainer_1_step_15440', 'gemma-2-2b_sweep_topk_ctx128_ef8_0824/resid_post_layer_19_checkpoints/trainer_4_step_1544', 'gemma-2-2b_sweep_topk_ctx128_ef8_0824/resid_post_layer_19_checkpoints/trainer_4_step_15440', 'gemma-2-2b_sweep_topk_ctx128_ef8_0824/resid_post_layer_19_checkpoints/trainer_4_step_48', 'gemma-2-2b_sweep_topk_ctx128_ef8_0824/resid_post_layer_19_checkpoints/trainer_4_step_488', 'gemma-2-2b_sweep_topk_ctx128_ef8_0824/resid_post_layer_19_checkpoints/trainer_4_step_4882', 'gemma-2-2b_sweep_topk_ctx128_ef8_0824/resid_post_layer_19_checkpoints/trainer_5_step_0', 'gemma-2-2b_sweep_topk_ctx128_ef8_0824/resid_post_layer_19_checkpoints/trainer_5_step_154', 'gemma-2-2b_sweep_topk_ctx128_ef8_0824/resid_post_layer_19_checkpoints/trainer_5_step_1544', 'gemma-2-2b_sweep_topk_ctx128_ef8_0824/resid_post_layer_19_checkpoints/trainer_5_step_15440', 'gemma-2-2b_sweep_topk_ctx128_ef8_0824/resid_post_layer_19_checkpoints/trainer_5_step_48', 'gemma-2-2b_sweep_topk_ctx128_ef8_0824/resid_post_layer_19_checkpoints/trainer_5_step_488', 'gemma-2-2b_sweep_topk_ctx128_ef8_0824/resid_post_layer_19_checkpoints/trainer_5_step_4882', 'gemma-2-2b_sweep_topk_ctx128_ef8_0824/resid_post_layer_19_checkpoints/trainer_4_step_154']\n",
      "\n",
      "\n",
      " sae_bench_gemma-2-2b_sweep_standard_ctx128_ef8_0824 \n",
      "\n",
      " ['gemma-2-2b_sweep_standard_ctx128_ef8_0824/resid_post_layer_19_checkpoints/trainer_5_step_154', 'gemma-2-2b_sweep_standard_ctx128_ef8_0824/resid_post_layer_19_checkpoints/trainer_5_step_1544', 'gemma-2-2b_sweep_standard_ctx128_ef8_0824/resid_post_layer_19_checkpoints/trainer_5_step_15440', 'gemma-2-2b_sweep_standard_ctx128_ef8_0824/resid_post_layer_19_checkpoints/trainer_5_step_48', 'gemma-2-2b_sweep_standard_ctx128_ef8_0824/resid_post_layer_19_checkpoints/trainer_5_step_488', 'gemma-2-2b_sweep_standard_ctx128_ef8_0824/resid_post_layer_19_checkpoints/trainer_5_step_4882', 'gemma-2-2b_sweep_standard_ctx128_ef8_0824/resid_post_layer_19_checkpoints/trainer_5_step_0', 'gemma-2-2b_sweep_standard_ctx128_ef8_0824/resid_post_layer_19_checkpoints/trainer_4_step_4882', 'gemma-2-2b_sweep_standard_ctx128_ef8_0824/resid_post_layer_19_checkpoints/trainer_4_step_488', 'gemma-2-2b_sweep_standard_ctx128_ef8_0824/resid_post_layer_19_checkpoints/trainer_4_step_48', 'gemma-2-2b_sweep_standard_ctx128_ef8_0824/resid_post_layer_19_checkpoints/trainer_2_step_1544', 'gemma-2-2b_sweep_standard_ctx128_ef8_0824/resid_post_layer_19_checkpoints/trainer_2_step_15440', 'gemma-2-2b_sweep_standard_ctx128_ef8_0824/resid_post_layer_19_checkpoints/trainer_2_step_48', 'gemma-2-2b_sweep_standard_ctx128_ef8_0824/resid_post_layer_19_checkpoints/trainer_2_step_488', 'gemma-2-2b_sweep_standard_ctx128_ef8_0824/resid_post_layer_19_checkpoints/trainer_2_step_4882', 'gemma-2-2b_sweep_standard_ctx128_ef8_0824/resid_post_layer_19_checkpoints/trainer_3_step_0', 'gemma-2-2b_sweep_standard_ctx128_ef8_0824/resid_post_layer_19_checkpoints/trainer_3_step_154', 'gemma-2-2b_sweep_standard_ctx128_ef8_0824/resid_post_layer_19_checkpoints/trainer_3_step_1544', 'gemma-2-2b_sweep_standard_ctx128_ef8_0824/resid_post_layer_19_checkpoints/trainer_3_step_48', 'gemma-2-2b_sweep_standard_ctx128_ef8_0824/resid_post_layer_19_checkpoints/trainer_3_step_488', 'gemma-2-2b_sweep_standard_ctx128_ef8_0824/resid_post_layer_19_checkpoints/trainer_3_step_4882', 'gemma-2-2b_sweep_standard_ctx128_ef8_0824/resid_post_layer_19_checkpoints/trainer_4_step_0', 'gemma-2-2b_sweep_standard_ctx128_ef8_0824/resid_post_layer_19_checkpoints/trainer_4_step_154', 'gemma-2-2b_sweep_standard_ctx128_ef8_0824/resid_post_layer_19_checkpoints/trainer_4_step_1544', 'gemma-2-2b_sweep_standard_ctx128_ef8_0824/resid_post_layer_19_checkpoints/trainer_4_step_15440', 'gemma-2-2b_sweep_standard_ctx128_ef8_0824/resid_post_layer_19_checkpoints/trainer_3_step_15440', 'gemma-2-2b_sweep_standard_ctx128_ef8_0824/resid_post_layer_19_checkpoints/trainer_2_step_154', 'gemma-2-2b_sweep_standard_ctx128_ef8_0824/resid_post_layer_19_checkpoints/trainer_2_step_0', 'gemma-2-2b_sweep_standard_ctx128_ef8_0824/resid_post_layer_19_checkpoints/trainer_1_step_4882', 'gemma-2-2b_sweep_standard_ctx128_ef8_0824/resid_post_layer_19_checkpoints/trainer_1_step_488', 'gemma-2-2b_sweep_standard_ctx128_ef8_0824/resid_post_layer_19/trainer_2', 'gemma-2-2b_sweep_standard_ctx128_ef8_0824/resid_post_layer_19/trainer_3', 'gemma-2-2b_sweep_standard_ctx128_ef8_0824/resid_post_layer_19/trainer_4', 'gemma-2-2b_sweep_standard_ctx128_ef8_0824/resid_post_layer_19/trainer_5', 'gemma-2-2b_sweep_standard_ctx128_ef8_0824/resid_post_layer_19_checkpoints/trainer_0_step_0', 'gemma-2-2b_sweep_standard_ctx128_ef8_0824/resid_post_layer_19_checkpoints/trainer_0_step_154', 'gemma-2-2b_sweep_standard_ctx128_ef8_0824/resid_post_layer_19_checkpoints/trainer_0_step_1544', 'gemma-2-2b_sweep_standard_ctx128_ef8_0824/resid_post_layer_19/trainer_1', 'gemma-2-2b_sweep_standard_ctx128_ef8_0824/resid_post_layer_19_checkpoints/trainer_0_step_15440', 'gemma-2-2b_sweep_standard_ctx128_ef8_0824/resid_post_layer_19_checkpoints/trainer_0_step_488', 'gemma-2-2b_sweep_standard_ctx128_ef8_0824/resid_post_layer_19_checkpoints/trainer_0_step_4882', 'gemma-2-2b_sweep_standard_ctx128_ef8_0824/resid_post_layer_19_checkpoints/trainer_1_step_0', 'gemma-2-2b_sweep_standard_ctx128_ef8_0824/resid_post_layer_19_checkpoints/trainer_1_step_154', 'gemma-2-2b_sweep_standard_ctx128_ef8_0824/resid_post_layer_19_checkpoints/trainer_1_step_1544', 'gemma-2-2b_sweep_standard_ctx128_ef8_0824/resid_post_layer_19_checkpoints/trainer_1_step_48', 'gemma-2-2b_sweep_standard_ctx128_ef8_0824/resid_post_layer_19_checkpoints/trainer_0_step_48', 'gemma-2-2b_sweep_standard_ctx128_ef8_0824/resid_post_layer_19/trainer_0', 'gemma-2-2b_sweep_standard_ctx128_ef8_0824/resid_post_layer_19_checkpoints/trainer_1_step_15440']\n"
     ]
    }
   ],
   "source": [
    "sae_releases = [\n",
    "    # \"gemma-scope-2b-pt-res\",\n",
    "    \"sae_bench_gemma-2-2b_sweep_topk_ctx128_ef8_0824\",\n",
    "    \"sae_bench_gemma-2-2b_sweep_standard_ctx128_ef8_0824\",\n",
    "]\n",
    "\n",
    "layer = 19\n",
    "\n",
    "selected_saes_dict = {}\n",
    "\n",
    "for release in sae_releases:\n",
    "    if \"gemma-scope\" in release:\n",
    "        selected_saes_dict[release] = formatting_utils.find_gemmascope_average_l0_sae_names(layer)\n",
    "    else:\n",
    "        selected_saes_dict[release] = formatting_utils.filter_sae_names(\n",
    "            sae_names=release, layers=[layer], include_checkpoints=True, trainer_ids=None\n",
    "        )\n",
    "\n",
    "for key in selected_saes_dict:\n",
    "    print(\"\\n\\n\", key, \"\\n\\n\",selected_saes_dict[key])"
   ]
  },
  {
   "cell_type": "markdown",
   "metadata": {},
   "source": [
    "This cell gets all standard and topk SAEs for Pythia layer 4. "
   ]
  },
  {
   "cell_type": "code",
   "execution_count": 14,
   "metadata": {},
   "outputs": [
    {
     "name": "stdout",
     "output_type": "stream",
     "text": [
      "\n",
      "\n",
      " sae_bench_pythia70m_sweep_standard_ctx128_0712 \n",
      "\n",
      " ['pythia70m_sweep_standard_ctx128_0712/resid_post_layer_4/trainer_0', 'pythia70m_sweep_standard_ctx128_0712/resid_post_layer_4/trainer_11', 'pythia70m_sweep_standard_ctx128_0712/resid_post_layer_4/trainer_10', 'pythia70m_sweep_standard_ctx128_0712/resid_post_layer_4/trainer_1', 'pythia70m_sweep_standard_ctx128_0712/resid_post_layer_4/trainer_13', 'pythia70m_sweep_standard_ctx128_0712/resid_post_layer_4/trainer_14', 'pythia70m_sweep_standard_ctx128_0712/resid_post_layer_4/trainer_16', 'pythia70m_sweep_standard_ctx128_0712/resid_post_layer_4/trainer_17', 'pythia70m_sweep_standard_ctx128_0712/resid_post_layer_4/trainer_18', 'pythia70m_sweep_standard_ctx128_0712/resid_post_layer_4/trainer_2', 'pythia70m_sweep_standard_ctx128_0712/resid_post_layer_4/trainer_20', 'pythia70m_sweep_standard_ctx128_0712/resid_post_layer_4/trainer_21', 'pythia70m_sweep_standard_ctx128_0712/resid_post_layer_4/trainer_12', 'pythia70m_sweep_standard_ctx128_0712/resid_post_layer_4/trainer_22', 'pythia70m_sweep_standard_ctx128_0712/resid_post_layer_4/trainer_3', 'pythia70m_sweep_standard_ctx128_0712/resid_post_layer_4/trainer_4', 'pythia70m_sweep_standard_ctx128_0712/resid_post_layer_4/trainer_5', 'pythia70m_sweep_standard_ctx128_0712/resid_post_layer_4/trainer_6', 'pythia70m_sweep_standard_ctx128_0712/resid_post_layer_4/trainer_7', 'pythia70m_sweep_standard_ctx128_0712/resid_post_layer_4/trainer_8', 'pythia70m_sweep_standard_ctx128_0712/resid_post_layer_4/trainer_9', 'pythia70m_sweep_standard_ctx128_0712/resid_post_layer_4/trainer_23', 'pythia70m_sweep_standard_ctx128_0712/resid_post_layer_4/trainer_15', 'pythia70m_sweep_standard_ctx128_0712/resid_post_layer_4/trainer_19']\n",
      "\n",
      "\n",
      " sae_bench_pythia70m_sweep_topk_ctx128_0730 \n",
      "\n",
      " ['pythia70m_sweep_topk_ctx128_0730/resid_post_layer_4/trainer_13', 'pythia70m_sweep_topk_ctx128_0730/resid_post_layer_4/trainer_14', 'pythia70m_sweep_topk_ctx128_0730/resid_post_layer_4/trainer_15', 'pythia70m_sweep_topk_ctx128_0730/resid_post_layer_4/trainer_16', 'pythia70m_sweep_topk_ctx128_0730/resid_post_layer_4/trainer_17', 'pythia70m_sweep_topk_ctx128_0730/resid_post_layer_4/trainer_18', 'pythia70m_sweep_topk_ctx128_0730/resid_post_layer_4/trainer_19', 'pythia70m_sweep_topk_ctx128_0730/resid_post_layer_4/trainer_2', 'pythia70m_sweep_topk_ctx128_0730/resid_post_layer_4/trainer_20', 'pythia70m_sweep_topk_ctx128_0730/resid_post_layer_4/trainer_21', 'pythia70m_sweep_topk_ctx128_0730/resid_post_layer_4/trainer_22', 'pythia70m_sweep_topk_ctx128_0730/resid_post_layer_4/trainer_23', 'pythia70m_sweep_topk_ctx128_0730/resid_post_layer_4/trainer_3', 'pythia70m_sweep_topk_ctx128_0730/resid_post_layer_4/trainer_4', 'pythia70m_sweep_topk_ctx128_0730/resid_post_layer_4/trainer_5', 'pythia70m_sweep_topk_ctx128_0730/resid_post_layer_4/trainer_6', 'pythia70m_sweep_topk_ctx128_0730/resid_post_layer_4/trainer_7', 'pythia70m_sweep_topk_ctx128_0730/resid_post_layer_4/trainer_12', 'pythia70m_sweep_topk_ctx128_0730/resid_post_layer_4/trainer_11', 'pythia70m_sweep_topk_ctx128_0730/resid_post_layer_4/trainer_10', 'pythia70m_sweep_topk_ctx128_0730/resid_post_layer_4/trainer_1', 'pythia70m_sweep_topk_ctx128_0730/resid_post_layer_4/trainer_0', 'pythia70m_sweep_topk_ctx128_0730/resid_post_layer_4/trainer_9', 'pythia70m_sweep_topk_ctx128_0730/resid_post_layer_4/trainer_8']\n"
     ]
    }
   ],
   "source": [
    "pythia_sae_releases = [\n",
    "    \"sae_bench_pythia70m_sweep_standard_ctx128_0712\",\n",
    "    \"sae_bench_pythia70m_sweep_topk_ctx128_0730\",\n",
    "    # \"sae_bench_pythia70m_sweep_gated_ctx128_0730\",\n",
    "    # \"sae_bench_pythia70m_sweep_panneal_ctx128_0730\",\n",
    "]\n",
    "\n",
    "layer = 4\n",
    "\n",
    "selected_saes_dict = {}\n",
    "\n",
    "for release in pythia_sae_releases:\n",
    "    if \"gemma-scope\" in release:\n",
    "        selected_saes_dict[release] = formatting_utils.find_gemmascope_average_l0_sae_names(layer)\n",
    "    else:\n",
    "        selected_saes_dict[release] = formatting_utils.filter_sae_names(\n",
    "            sae_names=release, layers=[layer], include_checkpoints=False, trainer_ids=None\n",
    "        )\n",
    "\n",
    "for key in selected_saes_dict:\n",
    "    print(\"\\n\\n\", key, \"\\n\\n\",selected_saes_dict[key])"
   ]
  },
  {
   "cell_type": "markdown",
   "metadata": {},
   "source": [
    "When testing we may want to run only a single SAE. This cell only runs a single Pythia TopK SAE."
   ]
  },
  {
   "cell_type": "code",
   "execution_count": 15,
   "metadata": {},
   "outputs": [
    {
     "name": "stdout",
     "output_type": "stream",
     "text": [
      "sae_bench_pythia70m_sweep_topk_ctx128_0730 ['pythia70m_sweep_topk_ctx128_0730/resid_post_layer_4/trainer_10']\n"
     ]
    }
   ],
   "source": [
    "pythia_sae_releases = [\n",
    "    # \"sae_bench_pythia70m_sweep_standard_ctx128_0712\",\n",
    "    \"sae_bench_pythia70m_sweep_topk_ctx128_0730\",\n",
    "    # \"sae_bench_pythia70m_sweep_gated_ctx128_0730\",\n",
    "    # \"sae_bench_pythia70m_sweep_panneal_ctx128_0730\",\n",
    "]\n",
    "\n",
    "layer = 4\n",
    "\n",
    "selected_saes_dict = {}\n",
    "\n",
    "for release in pythia_sae_releases:\n",
    "    if \"gemma-scope\" in release:\n",
    "        selected_saes_dict[release] = formatting_utils.find_gemmascope_average_l0_sae_names(layer)\n",
    "    else:\n",
    "        selected_saes_dict[release] = formatting_utils.filter_sae_names(\n",
    "            sae_names=release, layers=[layer], include_checkpoints=False, trainer_ids=[10]\n",
    "        )\n",
    "\n",
    "for key in selected_saes_dict:\n",
    "    print(key, selected_saes_dict[key])"
   ]
  },
  {
   "cell_type": "markdown",
   "metadata": {},
   "source": [
    "Here is an example of loading a Pythia SAE."
   ]
  },
  {
   "cell_type": "code",
   "execution_count": 16,
   "metadata": {},
   "outputs": [
    {
     "name": "stderr",
     "output_type": "stream",
     "text": [
      "/opt/conda/envs/saebench/lib/python3.11/site-packages/sae_lens/toolkit/pretrained_sae_loaders.py:480: FutureWarning: You are using `torch.load` with `weights_only=False` (the current default value), which uses the default pickle module implicitly. It is possible to construct malicious pickle data which will execute arbitrary code during unpickling (See https://github.com/pytorch/pytorch/blob/main/SECURITY.md#untrusted-models for more details). In a future release, the default value for `weights_only` will be flipped to `True`. This limits the functions that could be executed during unpickling. Arbitrary objects will no longer be allowed to be loaded via this mode unless they are explicitly allowlisted by the user via `torch.serialization.add_safe_globals`. We recommend you start setting `weights_only=True` for any use case where you don't have full control of the loaded file. Please open an issue on GitHub for any issues related to this experimental feature.\n",
      "  encoder = torch.load(encoder_path, map_location=\"cpu\")\n"
     ]
    },
    {
     "name": "stdout",
     "output_type": "stream",
     "text": [
      "Is sae topk? True\n",
      "{'architecture': 'standard', 'd_in': 512, 'd_sae': 16384, 'dtype': 'float32', 'device': 'cpu', 'model_name': 'pythia-70m-deduped', 'hook_name': 'blocks.4.hook_resid_post', 'hook_layer': 4, 'hook_head_index': None, 'activation_fn_str': 'topk', 'activation_fn_kwargs': {'k': 80}, 'apply_b_dec_to_input': True, 'finetuning_scaling_factor': False, 'sae_lens_training_version': None, 'prepend_bos': True, 'dataset_path': 'monology/pile-uncopyrighted', 'dataset_trust_remote_code': False, 'context_size': 128, 'normalize_activations': 'none', 'neuronpedia_id': None}\n"
     ]
    }
   ],
   "source": [
    "from sae_lens import SAE\n",
    "from sae_lens.sae import TopK\n",
    "\n",
    "pythia_sae_release = \"sae_bench_pythia70m_sweep_topk_ctx128_0730\"\n",
    "\n",
    "sae_name = 'pythia70m_sweep_topk_ctx128_0730/resid_post_layer_4/trainer_10'\n",
    "\n",
    "sae_id_to_name_map = sae_df.saes_map[pythia_sae_release]\n",
    "sae_name_to_id_map = {v: k for k, v in sae_id_to_name_map.items()}\n",
    "\n",
    "sae_id = sae_name_to_id_map[sae_name]\n",
    "\n",
    "device = \"cpu\"\n",
    "sae, cfg_dict, sparsity = SAE.from_pretrained(\n",
    "    release=pythia_sae_release,\n",
    "    sae_id=sae_id,\n",
    "    device=device,\n",
    ")\n",
    "sae = sae.to(device=device)\n",
    "\n",
    "print(f\"Is sae topk? {isinstance(sae.activation_fn, TopK)}\")\n",
    "\n",
    "assert isinstance(sae.activation_fn, TopK), \"This sae is not a topk sae, you probably have an old sae_lens version\"\n",
    "\n",
    "print(cfg_dict)"
   ]
  },
  {
   "cell_type": "code",
   "execution_count": 17,
   "metadata": {},
   "outputs": [
    {
     "data": {
      "text/plain": [
       "SAEConfig(architecture='standard', d_in=512, d_sae=16384, activation_fn_str='topk', apply_b_dec_to_input=True, finetuning_scaling_factor=False, context_size=128, model_name='pythia-70m-deduped', hook_name='blocks.4.hook_resid_post', hook_layer=4, hook_head_index=None, prepend_bos=True, dataset_path='monology/pile-uncopyrighted', dataset_trust_remote_code=False, normalize_activations='none', dtype='float32', device='cpu', sae_lens_training_version=None, activation_fn_kwargs={'k': 80}, neuronpedia_id='pythia-70m/4-sae_bench-topk-res-16k-trainer_10_step_final', model_from_pretrained_kwargs={})"
      ]
     },
     "execution_count": 17,
     "metadata": {},
     "output_type": "execute_result"
    }
   ],
   "source": [
    "sae.cfg"
   ]
  },
  {
   "cell_type": "markdown",
   "metadata": {},
   "source": [
    "This repo already contains info on all SAEs we're using at  `sae_bench_data/{release_name}_data.json`. This contains the config used in the `dictionary_learning` repo, which includes training hyperparameters, SAE type, etc. It also contains the `basic_eval_results`, which includes the `l0` and `frac_recovered`, which was obtained using the `dictionary_learning evaluate()` function. These are already computed, so we can use them when making graphs."
   ]
  },
  {
   "cell_type": "code",
   "execution_count": null,
   "metadata": {},
   "outputs": [],
   "source": [
    "release_name = \"sae_bench_gemma-2-2b_sweep_topk_ctx128_ef8_0824\"\n",
    "sae_data_filename = f\"sae_bench_data/{release_name}_data.json\"\n",
    "\n",
    "with open(sae_data_filename, \"r\") as f:\n",
    "    sae_data = json.load(f)"
   ]
  },
  {
   "cell_type": "markdown",
   "metadata": {},
   "source": [
    "As we can see, `sae_data` contains two keys: 'sae_config_dictionary_learning' and 'basic_eval_results'. Within each key, we have all SAE names for that release."
   ]
  },
  {
   "cell_type": "code",
   "execution_count": null,
   "metadata": {},
   "outputs": [],
   "source": [
    "example_sae_names = list(sae_data[\"sae_config_dictionary_learning\"].keys())[:5]\n",
    "example_sae_name = example_sae_names[0]\n",
    "example_sae_config = sae_data[\"sae_config_dictionary_learning\"][example_sae_name]\n",
    "example_basic_eval_result = sae_data[\"basic_eval_results\"][example_sae_name]\n",
    "\n",
    "print(sae_data.keys())\n",
    "print(\"\\nExample evaluated SAEs:\\n\", example_sae_names)\n",
    "print(\"\\nFirst SAE config:\\n\", example_sae_config)\n",
    "print(\"\\nFirst basic eval result:\\n\", example_basic_eval_result)"
   ]
  },
  {
   "cell_type": "markdown",
   "metadata": {},
   "source": [
    "The results file of the custom eval you're implementing will contain a `custom_eval_config` and `custom_eval_results`. \n",
    "\n",
    "`custom_eval_config` contains a dict of hyperparameters and config values to reproduce the results.\n",
    "\n",
    "`custom_eval_results` contains a dict, where every key is an SAE name, and every value is another dict containing various results from the eval. This dict can be immediately loaded in to `graph_sae_results.ipynb` to create various plots."
   ]
  },
  {
   "cell_type": "code",
   "execution_count": null,
   "metadata": {},
   "outputs": [],
   "source": [
    "folder_path = \"evals/sparse_probing/results\"\n",
    "filename = \"example_gemma-2-2b_layer_19_eval_results.json\"\n",
    "filepath = os.path.join(folder_path, filename)\n",
    "\n",
    "with open(filepath, \"r\") as f:\n",
    "    custom_eval_results = json.load(f)\n",
    "\n",
    "print(custom_eval_results.keys())\n",
    "print(f'\\nCustom eval config:\\n{custom_eval_results[\"custom_eval_config\"]}')\n",
    "print(f'\\nCustom eval results for {example_sae_name}:\\n{custom_eval_results[\"custom_eval_results\"][example_sae_name]}')"
   ]
  },
  {
   "cell_type": "code",
   "execution_count": null,
   "metadata": {},
   "outputs": [],
   "source": []
  }
 ],
 "metadata": {
  "kernelspec": {
   "display_name": "saebench",
   "language": "python",
   "name": "python3"
  },
  "language_info": {
   "codemirror_mode": {
    "name": "ipython",
    "version": 3
   },
   "file_extension": ".py",
   "mimetype": "text/x-python",
   "name": "python",
   "nbconvert_exporter": "python",
   "pygments_lexer": "ipython3",
   "version": "3.11.9"
  }
 },
 "nbformat": 4,
 "nbformat_minor": 2
}
